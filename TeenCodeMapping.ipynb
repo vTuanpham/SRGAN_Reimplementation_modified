{
  "nbformat": 4,
  "nbformat_minor": 0,
  "metadata": {
    "colab": {
      "provenance": [],
      "authorship_tag": "ABX9TyN1a1s28E4mD87FJ6oClnMk",
      "include_colab_link": true
    },
    "kernelspec": {
      "name": "python3",
      "display_name": "Python 3"
    },
    "language_info": {
      "name": "python"
    }
  },
  "cells": [
    {
      "cell_type": "markdown",
      "metadata": {
        "id": "view-in-github",
        "colab_type": "text"
      },
      "source": [
        "<a href=\"https://colab.research.google.com/github/vTuanpham/SRGAN_Reimplementation_modified/blob/main/TeenCodeMapping.ipynb\" target=\"_parent\"><img src=\"https://colab.research.google.com/assets/colab-badge.svg\" alt=\"Open In Colab\"/></a>"
      ]
    },
    {
      "cell_type": "code",
      "source": [
        "!pip install -U case-insensitive-dictionary"
      ],
      "metadata": {
        "colab": {
          "base_uri": "https://localhost:8080/"
        },
        "id": "Aq43HjOt5cI8",
        "outputId": "745a9556-6689-476d-ac20-2bc363448938"
      },
      "execution_count": 25,
      "outputs": [
        {
          "output_type": "stream",
          "name": "stdout",
          "text": [
            "Looking in indexes: https://pypi.org/simple, https://us-python.pkg.dev/colab-wheels/public/simple/\n",
            "Collecting case-insensitive-dictionary\n",
            "  Downloading case_insensitive_dictionary-0.2.1-py3-none-any.whl (6.1 kB)\n",
            "Installing collected packages: case-insensitive-dictionary\n",
            "Successfully installed case-insensitive-dictionary-0.2.1\n"
          ]
        }
      ]
    },
    {
      "cell_type": "code",
      "source": [
        "from case_insensitive_dict import CaseInsensitiveDict #Case insensitive key\n",
        "import re\n",
        "import time"
      ],
      "metadata": {
        "id": "yYObtLLu4moE"
      },
      "execution_count": 226,
      "outputs": []
    },
    {
      "cell_type": "code",
      "source": [
        "#Recursive\n",
        "# def removeConsecutiveDuplicates(s):\n",
        "#     if len(s) < 2:\n",
        "#         return s\n",
        "#     if s[0] != s[1]:\n",
        "#         return s[0]+removeConsecutiveDuplicates(s[1:])\n",
        "#     return removeConsecutiveDuplicates(s[1:])\n",
        "\n",
        "#Iterative\n",
        "# Removal of repeated sequence ex: hiii -> hi\n",
        "def removeConsecutiveDuplicates(S):\n",
        "    n = len(S)\n",
        "    if (n <= 2):\n",
        "        return S\n",
        "    S = list(S.rstrip())\n",
        "    j = 0\n",
        "    for i in range(n):\n",
        "        if (S[j] != S[i]):\n",
        "            j += 1\n",
        "            S[j] = S[i]\n",
        "    j += 1\n",
        "    S = S[:j]\n",
        "\n",
        "    strOut = \"\".join(S)\n",
        "\n",
        "    return strOut\n",
        "\n",
        "#Reform sentence with appropriate capitalize\n",
        "def reformSentence(S):\n",
        "  p = re.compile(r'((?<=[\\.\\?!]\\s)(\\w+)|(^\\w+))') #Capitalize word after EOS,question mark,..\n",
        "  def cap(match):\n",
        "      return(match.group().capitalize())\n",
        "  return p.sub(cap,S)\n",
        "\n",
        "#Convert from teencode to actual corresponding word\n",
        "def TeenCMap(strIn, map_to_word):\n",
        "\n",
        "  strDupRemove = removeConsecutiveDuplicates(strIn)\n",
        "  # strInLow = strDupRemove.lower()\n",
        "  strInSplited = re.findall(r\"[\\w']+|[.,!?;]\", strDupRemove)\n",
        "  # strInSplited = strInLow.split()\n",
        "\n",
        "  #Map from input to corresonding output or defualt to input not present in dict\n",
        "  strOutsub = list(map(lambda w: str(map_to_word.get(w[:],w)),strInSplited))\n",
        "\n",
        "  strOut = \" \".join(strOutsub)\n",
        "  # strOut = strOut.replace(\"\\s[\\w']+|[.,!?;]\",\"[\\w']+|[.,!?;]\")\n",
        "  strOut = re.sub(r'[\\s]+(?=[.,!?;])','',strOut) #Remove spaces before comma,question mark,..\n",
        "  return strOut"
      ],
      "metadata": {
        "id": "79zwSjpA_d-4"
      },
      "execution_count": 243,
      "outputs": []
    },
    {
      "cell_type": "code",
      "execution_count": 266,
      "metadata": {
        "colab": {
          "base_uri": "https://localhost:8080/"
        },
        "id": "pxduU2HHRWE1",
        "outputId": "901afc4e-ee25-4a7c-eb9e-1c8649c2f230"
      },
      "outputs": [
        {
          "output_type": "stream",
          "name": "stdout",
          "text": [
            "h lap đổi qua máy bàn xài oke ko\n",
            "Giờ lap đổi qua máy bàn xài oke không\n",
            "\n",
            "--- 0.0009083747863769531 seconds --- For string with length of 32\n"
          ]
        }
      ],
      "source": [
        "start_time = time.time()\n",
        "\n",
        "map_to_word = CaseInsensitiveDict({\n",
        "        \"ko\": \"không\",\n",
        "        \"k\":\"không\",\n",
        "        \"hk\":\"không\",\n",
        "        \"khong\":\"không\",\n",
        "        \"j\":\"gì\",\n",
        "        \"zì\":\"gì\",\n",
        "        \"lol\":\"cười lớn\",\n",
        "        \"thứ high\":\"thứ hai\",\n",
        "        \"thứ bar\":\"thứ ba\",\n",
        "        \"<3\":\"trái tim\",\n",
        "        \"a\":\"anh\",\n",
        "        \"e\":\"em\",\n",
        "        \"c\":\"chị\",\n",
        "        \"gato\": \"ganh tị\",\n",
        "        \"mlem\":\"ngon\",\n",
        "        \"in4\":\"thông tin\",\n",
        "        \"cmt\":\"bình luận\",\n",
        "        \"mem\":\"thành viên\",\n",
        "        \"5ting\":\"cố lên\",\n",
        "        \"m\":\"mày\",\n",
        "        \"khum\":\"không\",\n",
        "        \"iu\":\"yêu\",\n",
        "        \"zị\":\"vậy\",\n",
        "        \"cf\":\"cà phê\",\n",
        "        \"nek\":\"nè\",\n",
        "        \"nak\":\"nè\",\n",
        "        \"nc\":\"nước\",\n",
        "        \"nch\":\"nói chuyện\",\n",
        "        \"nx\":\"nữa\",\n",
        "        \"nưaz\":\"nữa\",\n",
        "        \"bt\":\"biết\",\n",
        "        \"ms\":\"mới\",\n",
        "        \"klq\":\"không liên quan\",\n",
        "        \"v\":\"vậy\",\n",
        "        \"ck\":\"chồng\",\n",
        "        \"vk\":\"vợ\",\n",
        "        \"kh\":\"không\",\n",
        "        \"ui\":\"ơi\",\n",
        "        \"idk\":\"tôi không biết\",\n",
        "        \"dg\":\"đang\",\n",
        "        \"đg\":\"đang\",\n",
        "        \"đag\":\"đang\",\n",
        "        \"dag\":\"đang\",\n",
        "        \"lm\":\"làm\",\n",
        "        \"thg\":\"thằng\",\n",
        "        \"t\":\"tao\",\n",
        "        \"hok\":\"không\",\n",
        "        \"z\":\"vậy\",\n",
        "        \"oi\":\"ơi\",\n",
        "        \"nhoa\":\"nha\",\n",
        "        \"hông\":\"không\",\n",
        "        \"hong\":\"không\",\n",
        "        \"hòi\":\"rồi\",\n",
        "        \"ùi\":\"rồi\",\n",
        "        \"hem\":\"không\",\n",
        "        \"âu\":\"đâu\",\n",
        "        \"hoy\":\"thôi\",\n",
        "        \"ultr\":\"ôi trời\",\n",
        "        \"nhma\":\"nhưng mà\",\n",
        "        \"cgi\":\"cái gì\",\n",
        "        \"chiện\":\"chuyện\",\n",
        "        \"đt\":\"điện thoại\",\n",
        "        \"tuôi\":\"tôi\",\n",
        "        \"tủi\":\"tuổi\",\n",
        "        \"giề\":\"gì\",\n",
        "        \"gie\":\"gì\",\n",
        "        \"cty\":\"công ty\",\n",
        "        \"sn\":\"sinh nhật\",\n",
        "        \"h\":\"giờ\",\n",
        "        \"bth:\":\"bình thường\",\n",
        "        \"bít\":\"biết\",\n",
        "        \"đr\":\"đúng rồi\",\n",
        "        \"dr\":\"đúng rồi\",\n",
        "        \"đk\":\"đúng không\",\n",
        "        \"dk\":\"đúng không\",\n",
        "        \"dug\":\"đúng\",\n",
        "        \"đug\":\"đúng\",\n",
        "        \"puk\":\"bực\",\n",
        "        \"dok\":\"đó\",\n",
        "        \"hnay\":\"hôm nay\",\n",
        "        \"i\":\"đi\",\n",
        "        \"thui\":\"thôi\",\n",
        "        \"ch\":\"chưa\",\n",
        "        \"tn\":\"tin nhắn\",\n",
        "        \"r\":\"rồi\",\n",
        "        \"âu\":\"đâu\",\n",
        "        \"au\":\"đâu\",\n",
        "        \"dey\":\"đấy\",\n",
        "        \"đey\":\"đấy\",\n",
        "        \"đê\":\"đi\",\n",
        "        \"hui\":\"thôi\",\n",
        "        \"vìa\":\"về\",\n",
        "        \"zìa\":\"về\",\n",
        "        \"chớt\":\"chết\",\n",
        "        \"đc\":\"được\",\n",
        "        \"dc\":\"được\",\n",
        "        \"đx\":\"được\",\n",
        "        \"dx\":\"được\",\n",
        "        \"ng\":\"người\",\n",
        "        \"ngta\":\"người ta\",\n",
        "        \"ntn\":\"như thế nào\",\n",
        "        \"mng\":\"mọi người\",\n",
        "        \"mn\":\"mọi người\",\n",
        "        \"ds\":\"danh sách\",\n",
        "        \"z\":\"vậy\",\n",
        "        \"zậy\":\"vậy\",\n",
        "        \"zay\":\"vậy\",\n",
        "        \"coai\":\"coi\",\n",
        "        \"th\":\"thôi\",\n",
        "        \"tuk\":\"tức\",\n",
        "        \"chs\":\"chả hiểu sao\",\n",
        "        \"dzô\":\"vô\",\n",
        "        \"zô\":\"vô\",\n",
        "        \"zo\":\"vô\",\n",
        "        \"ham\":\"không\",\n",
        "        \"mún\":\"muốn\",\n",
        "        \"zok\":\"dọ\",\n",
        "        \"mò\":\"mà\",\n",
        "        \"uk\":\"ừ\",\n",
        "        \"oh\":\"ờ\",\n",
        "        \"ò\":\"ờ\",\n",
        "        \"nh\":\"nhưng\",\n",
        "        \"trg\":\"trường\",\n",
        "        \"xog\":\"xong\",\n",
        "        \"cóa\":\"cóa\",\n",
        "        \"coa\":\"cóa\",\n",
        "        \"trc\":\"trước\",\n",
        "        \"rep\":\"trả lời\",\n",
        "        \"clb\":\"câu lạc bộ\",\n",
        "        \"cbi\":\"chuẩn bị\",\n",
        "        \"mag\":\"mang\",\n",
        "        \"vs\":\"với\",\n",
        "        \"ae\":\"anh em\",\n",
        "        \"ròi\":\"rồi\"\n",
        "        })\n",
        "\n",
        "#Use\n",
        "strIn = 'h lap đổi qua máy bàn xài oke ko'\n",
        "strOut = reformSentence(TeenCMap(strIn,map_to_word))\n",
        "print(strIn)\n",
        "print(strOut)\n",
        "\n",
        "print(\"\\n--- %s seconds ---\" % (time.time() - start_time) + \" For string with length of %d\" %len(strIn))\n",
        "\n",
        "\n",
        "\n",
        "\n"
      ]
    },
    {
      "cell_type": "markdown",
      "source": [
        "**Test case**"
      ],
      "metadata": {
        "id": "wi0OwXMCLPqc"
      }
    },
    {
      "cell_type": "code",
      "source": [
        "import unittest\n",
        "\n",
        "class TestAssertEqual(unittest.TestCase):\n",
        "    def test_TeenCodeConvert(self):\n",
        "        a = 'vô chạy thử coai'\n",
        "        b = 'Vô chạy thử coi'\n",
        "        self.assertEqual(reformSentence(TeenCMap(a,map_to_word)), b)\n",
        "        a = 'Uk v đúng ngành t 4 năm rưỡi'\n",
        "        b = 'Ừ vậy đúng ngành tao 4 năm rưỡi'\n",
        "        self.assertEqual(reformSentence(TeenCMap(a,map_to_word)), b)\n",
        "        a = 'Tỉ lệ ra đúng hạn trg t thấp lắm'\n",
        "        b = 'Tỉ lệ ra đúng hạn trường tao thấp lắm'\n",
        "        self.assertEqual(reformSentence(TeenCMap(a,map_to_word)), b)\n",
        "        a = 'm thấy cái đường từ cổng vào nhà xe dug k'\n",
        "        b = 'Mày thấy cái đường từ cổng vào nhà xe đúng không'\n",
        "        self.assertEqual(reformSentence(TeenCMap(a,map_to_word)), b)\n",
        "        a = 'còn báo về đt, ông đưa cho cái hết hồn, nghĩ lại xem nhúng ổn k'\n",
        "        b = 'Còn báo về điện thoại, ông đưa cho cái hết hồn, nghĩ lại xem nhúng ổn không'\n",
        "        self.assertEqual(reformSentence(TeenCMap(a,map_to_word)), b)\n",
        "        a = 'Ngta bay nấp chứ ai đứng giữa đường như e'\n",
        "        b = 'Người ta bay nấp chứ ai đứng giữa đường như em'\n",
        "        self.assertEqual(reformSentence(TeenCMap(a,map_to_word)), b)\n",
        "        a = 'Vấn đề t ch dc lm nên ms thế m làm bữa h ròi'\n",
        "        b = 'Vấn đề tao chưa được làm nên mới thế mày làm bữa giờ rồi'\n",
        "        self.assertEqual(reformSentence(TeenCMap(a,map_to_word)), b)\n",
        "        a = 'Nhma MK tao đ leak ra được khong ổn'\n",
        "        b = 'Nhưng mà MK tao đ leak ra được không ổn'\n",
        "        self.assertEqual(reformSentence(TeenCMap(a,map_to_word)), b)\n",
        "        a = 'h lap đổi qua máy bàn xài oke ko'\n",
        "        b = 'Giờ lap đổi qua máy bàn xài oke không'\n",
        "        self.assertEqual(reformSentence(TeenCMap(a,map_to_word)), b)\n",
        "        a = 'nhma phạt mấy đứa ngoài ds'\n",
        "        b = 'Nhưng mà phạt mấy đứa ngoài danh sách'\n",
        "        self.assertEqual(reformSentence(TeenCMap(a,map_to_word)), b)\n",
        "    def test_ExtaConsencutiveWord(self):\n",
        "        a = 'vô chạyyy thử coaiiiii'\n",
        "        b = 'Vô chạy thử coi'\n",
        "        self.assertEqual(reformSentence(TeenCMap(a,map_to_word)), b)\n",
        "        a = 'Ukkk v đúng ngànhhhh ttt 4 nămmm rưỡi'\n",
        "        b = 'Ừ vậy đúng ngành tao 4 năm rưỡi'\n",
        "        self.assertEqual(reformSentence(TeenCMap(a,map_to_word)), b)\n",
        "        a = 'Tỉ lệ ra đúnggg hạn trggg t thấp lắm'\n",
        "        b = 'Tỉ lệ ra đúng hạn trường tao thấp lắm'\n",
        "        self.assertEqual(reformSentence(TeenCMap(a,map_to_word)), b)\n",
        "        a = 'mmm thấy cáiiii đườngggg từ cổng vào nhà xe dug kkk'\n",
        "        b = 'Mày thấy cái đường từ cổng vào nhà xe đúng không'\n",
        "        self.assertEqual(reformSentence(TeenCMap(a,map_to_word)), b)\n",
        "        a = 'còn báooo về đtttt, ông đưa cho cái hết hồnnnn, nghĩ lạiiii xem nhúng ổnnn k'\n",
        "        b = 'Còn báo về điện thoại, ông đưa cho cái hết hồn, nghĩ lại xem nhúng ổn không'\n",
        "        self.assertEqual(reformSentence(TeenCMap(a,map_to_word)), b)\n",
        "        a = 'Ngtaaaa bay nấppp chứ ai đứng giữa đường như eee'\n",
        "        b = 'Người ta bay nấp chứ ai đứng giữa đường như em'\n",
        "        self.assertEqual(reformSentence(TeenCMap(a,map_to_word)), b)\n",
        "        a = 'Vấn đề t ch dc lm nên ms thế m làm bữa h ròiiii'\n",
        "        b = 'Vấn đề tao chưa được làm nên mới thế mày làm bữa giờ rồi'\n",
        "        self.assertEqual(reformSentence(TeenCMap(a,map_to_word)), b)\n",
        "        a = 'Nhma MKKK tao đ leak raaa được khong ổnn'\n",
        "        b = 'Nhưng mà MK tao đ leak ra được không ổn'\n",
        "        self.assertEqual(reformSentence(TeenCMap(a,map_to_word)), b)\n",
        "        a = 'hhh lap đổi quaaaaaa máy bàn xài oke koooo'\n",
        "        b = 'Giờ lap đổi qua máy bàn xài oke không'\n",
        "        self.assertEqual(reformSentence(TeenCMap(a,map_to_word)), b)\n",
        "        a = 'nhmaaaaaa phạttt mấy đứaaa ngoàiii dssss'\n",
        "        b = 'Nhưng mà phạt mấy đứa ngoài danh sách'\n",
        "        self.assertEqual(reformSentence(TeenCMap(a,map_to_word)), b)\n",
        "\n"
      ],
      "metadata": {
        "id": "RvOay4ZiAvSr"
      },
      "execution_count": 264,
      "outputs": []
    },
    {
      "cell_type": "code",
      "source": [
        "unittest.main(argv=[''], verbosity=2, exit=False)"
      ],
      "metadata": {
        "colab": {
          "base_uri": "https://localhost:8080/"
        },
        "id": "GaEiu-55HAkx",
        "outputId": "2a9b3abc-aafd-4dc9-929c-83f5eee8053f"
      },
      "execution_count": 265,
      "outputs": [
        {
          "output_type": "stream",
          "name": "stderr",
          "text": [
            "test_ExtaConsencutiveWord (__main__.TestAssertEqual) ... ok\n",
            "test_TeenCodeConvert (__main__.TestAssertEqual) ... ok\n",
            "\n",
            "----------------------------------------------------------------------\n",
            "Ran 2 tests in 0.009s\n",
            "\n",
            "OK\n"
          ]
        },
        {
          "output_type": "execute_result",
          "data": {
            "text/plain": [
              "<unittest.main.TestProgram at 0x7f41263dfb80>"
            ]
          },
          "metadata": {},
          "execution_count": 265
        }
      ]
    }
  ]
}